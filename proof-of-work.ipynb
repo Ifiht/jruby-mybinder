{
 "cells": [
  {
   "cell_type": "code",
   "execution_count": 1,
   "id": "99a0f6b4",
   "metadata": {},
   "outputs": [
    {
     "name": "stdout",
     "output_type": "stream",
     "text": [
      "grep: /srv/conda/envs/notebook/release: No such file or directory\n",
      "jruby 9.3.0.0-SNAPSHOT (2.6.5) 2021-08-03 e3e1c2e4ed OpenJDK 64-Bit Server VM 11.0.9.1-internal+0-adhoc..src on 11.0.9.1-internal+0-adhoc..src +jit [linux-x86_64]\n"
     ]
    }
   ],
   "source": [
    "! ./jruby-head/bin/jruby -v"
   ]
  },
  {
   "cell_type": "markdown",
   "id": "a27d2da9",
   "metadata": {},
   "source": [
    "this is due to line 163 in the jruby script:\n",
    "\n",
    "`if [ -f \"$JAVA_HOME\"/lib/modules ] || [ -f \"$JAVA_HOME\"/release ] && grep -q ^MODULES \"$JAVA_HOME\"/release; then`\n",
    "\n",
    "if the second two conditions are contained in parens, we can eliminate the error message and get the original intent. Reversing the order forces bash to evaluate the new condition first, which it does without error:\n",
    "\n",
    "`if ([ -f \"$JAVA_HOME\"/release ] && [ grep -q ^MODULES \"$JAVA_HOME\"/release ]) || [ -f \"$JAVA_HOME\"/lib/modules ]; then`"
   ]
  },
  {
   "cell_type": "code",
   "execution_count": 2,
   "id": "70daf627",
   "metadata": {},
   "outputs": [
    {
     "name": "stdout",
     "output_type": "stream",
     "text": [
      "jruby 9.3.0.0-SNAPSHOT (2.6.5) 2021-08-03 e3e1c2e4ed OpenJDK 64-Bit Server VM 11.0.9.1-internal+0-adhoc..src on 11.0.9.1-internal+0-adhoc..src +jit [linux-x86_64]\r\n"
     ]
    }
   ],
   "source": [
    "! ./jruby-head_fix/bin/jruby -v"
   ]
  },
  {
   "cell_type": "code",
   "execution_count": null,
   "id": "af831fa7",
   "metadata": {},
   "outputs": [],
   "source": []
  }
 ],
 "metadata": {
  "kernelspec": {
   "display_name": "Python 3",
   "language": "python",
   "name": "python3"
  },
  "language_info": {
   "codemirror_mode": {
    "name": "ipython",
    "version": 3
   },
   "file_extension": ".py",
   "mimetype": "text/x-python",
   "name": "python",
   "nbconvert_exporter": "python",
   "pygments_lexer": "ipython3",
   "version": "3.7.10"
  }
 },
 "nbformat": 4,
 "nbformat_minor": 5
}
